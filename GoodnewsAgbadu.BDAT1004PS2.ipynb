{
 "cells": [
  {
   "cell_type": "markdown",
   "id": "6b7eb879",
   "metadata": {},
   "source": [
    "<h1><font color='#004b87'><center>BDAT 1004 - 02 PROBLEM SET 2</center></font></h1>\n",
    "<h3><center>NAME: GOODNEWS AGBADU</center></h3>\n",
    "<h3><center>STUDENT NUMBER: 200532679</center></h3>"
   ]
  },
  {
   "cell_type": "markdown",
   "id": "f7a9a5b3",
   "metadata": {},
   "source": [
    "<h5>QUESTION 1</h5>\n",
    "\n",
    "<p7>\n",
    "\n",
    "</p7>"
   ]
  },
  {
   "cell_type": "code",
   "execution_count": 35,
   "id": "4beeec27",
   "metadata": {},
   "outputs": [],
   "source": [
    "#Python Module\n",
    "\n",
    "a=0\n",
    "\n",
    "def b():\n",
    "    global a # all references to a in c() are to the global a\n",
    "    a = c(a) # global a is changed\n",
    "    \n",
    "def c(a):\n",
    "    return a + 2\n"
   ]
  },
  {
   "cell_type": "code",
   "execution_count": 36,
   "id": "09799e7c",
   "metadata": {},
   "outputs": [
    {
     "data": {
      "text/plain": [
       "6"
      ]
     },
     "execution_count": 36,
     "metadata": {},
     "output_type": "execute_result"
    }
   ],
   "source": [
    "b()\n",
    "b()\n",
    "b()\n",
    "a"
   ]
  },
  {
   "cell_type": "markdown",
   "id": "26d486a1",
   "metadata": {},
   "source": [
    "Explanation:\n",
    "\n",
    "In every executed statement since b is defined as the function of the global variable\n",
    "\n",
    "Function c takes a as a parameter and returns each time with increments 2\n",
    "\n",
    "b() returns 2\n",
    " \n",
    "b() returns 4\n",
    " \n",
    "b() returns 6\n",
    "\n",
    "So that a = 6"
   ]
  },
  {
   "cell_type": "markdown",
   "id": "2e2f51ec",
   "metadata": {},
   "source": [
    "<h5>QUESTION 2</h5>\n",
    "\n",
    "<p6> </p6>"
   ]
  },
  {
   "cell_type": "code",
   "execution_count": 37,
   "id": "c0547110",
   "metadata": {},
   "outputs": [
    {
     "name": "stdout",
     "output_type": "stream",
     "text": [
      "123\n",
      "goodnewsLength.txt not found.\n"
     ]
    }
   ],
   "source": [
    "def filelength(file):\n",
    "    try:\n",
    "        file=open(file)\n",
    "        contents=file.read()\n",
    "        file.close()\n",
    "        print(len(contents))\n",
    "    except:\n",
    "        FileNotFoundError()\n",
    "        print(f'{file} not found.')\n",
    "\n",
    "filelength('FileLength.txt')\n",
    "filelength('goodnewsLength.txt')"
   ]
  },
  {
   "cell_type": "markdown",
   "id": "81074df7",
   "metadata": {},
   "source": [
    "<h5>QUESTION 3</h5>\n",
    "\n",
    "<p6> </p6>"
   ]
  },
  {
   "cell_type": "code",
   "execution_count": 39,
   "id": "340f1f07",
   "metadata": {},
   "outputs": [
    {
     "data": {
      "text/plain": [
       "['doll', 'firetruck', 'kitten']"
      ]
     },
     "execution_count": 39,
     "metadata": {},
     "output_type": "execute_result"
    }
   ],
   "source": [
    "class Marsupial(): #a class named Marsupial \n",
    "    def __init__(self):\n",
    "        self.contents = [] #creating an ampty list to store contents\n",
    "    \n",
    "    def put_in_pouch(self,thing):\n",
    "        self.contents.append(thing) #appending to contents\n",
    "        \n",
    "    def pouch_contents(self):\n",
    "        return self.contents # this will return the contents of the list \n",
    "        \n",
    "m=Marsupial()\n",
    "m.put_in_pouch('doll')\n",
    "m.put_in_pouch('firetruck')\n",
    "m.put_in_pouch('kitten')\n",
    "m.pouch_contents()\n",
    "\n"
   ]
  },
  {
   "cell_type": "code",
   "execution_count": 42,
   "id": "f8f276f7",
   "metadata": {},
   "outputs": [
    {
     "name": "stdout",
     "output_type": "stream",
     "text": [
      "I am a kangaroo located at coordinates(0,0)\n",
      "I am a kangaroo located at coordinates(3,0)\n"
     ]
    }
   ],
   "source": [
    "class kangaroo(Marsupial):#subclass of Marsupial that inherits all the Marsupial\n",
    "    def __init__(self,x,y): #he coordinates x and y of the Kangaroo object,\n",
    "        Marsupial.__init__(self)\n",
    "        self.y=y\n",
    "        self.x=x\n",
    "    def jump(self,dx,dy):\n",
    "        self.x = self.x+dx\n",
    "        self.y = self.y+dy\n",
    "    def __str__(self):\n",
    "        return 'I am a kangaroo located at coordinates({},{})'.format(self.x,self.y)\n",
    "    \n",
    "k=kangaroo(0,0)\n",
    "print(k)\n",
    "k.put_in_pouch('doll')\n",
    "k.put_in_pouch('firetruck')\n",
    "k.put_in_pouch('kitten')\n",
    "k.pouch_contents()\n",
    "k.jump(1,0)\n",
    "k.jump(1,0)\n",
    "k.jump(1,0)\n",
    "print(k)\n"
   ]
  },
  {
   "cell_type": "markdown",
   "id": "b46dd794",
   "metadata": {},
   "source": [
    "<h5>QUESTION 4</h5>\n",
    "\n",
    "<p6> </p6>"
   ]
  },
  {
   "cell_type": "code",
   "execution_count": 43,
   "id": "f0bf1f09",
   "metadata": {},
   "outputs": [
    {
     "name": "stdout",
     "output_type": "stream",
     "text": [
      "1\n",
      "10\n",
      "5\n",
      "16\n",
      "8\n",
      "4\n",
      "2\n",
      "1\n"
     ]
    }
   ],
   "source": [
    "def collatz(x):\n",
    "    if x==1:\n",
    "        print(x)\n",
    "        return\n",
    "    elif x%2==0:\n",
    "        print(x)\n",
    "        collatz(x//2)#recursion\n",
    "    else:\n",
    "        print(x)\n",
    "        collatz(3*x+1) #recursion\n",
    "collatz(1)\n",
    "collatz(10)"
   ]
  },
  {
   "cell_type": "markdown",
   "id": "35558623",
   "metadata": {},
   "source": [
    "<h5>QUESTION 5</h5>\n",
    "\n",
    "<p6> </p6>"
   ]
  },
  {
   "cell_type": "code",
   "execution_count": 44,
   "id": "4e0f0cb1",
   "metadata": {},
   "outputs": [
    {
     "name": "stdout",
     "output_type": "stream",
     "text": [
      "0\n",
      "1\n",
      "11\n",
      "1001\n"
     ]
    }
   ],
   "source": [
    "def binary(n):\n",
    "    x = str(n % 2)\n",
    "    \n",
    "    if n//2**1 > 0:\n",
    "        x = x+binary(n//2**1)#Returns n with the bits shifted to the right same as n>>1\n",
    "    return x\n",
    "\n",
    "print(binary(0))\n",
    "print(binary(1))\n",
    "print(binary(3))\n",
    "print(binary(9))"
   ]
  },
  {
   "cell_type": "markdown",
   "id": "b44b13f1",
   "metadata": {},
   "source": [
    "<h5>QUESTION 6</h5>\n",
    "\n",
    "<p6> </p6>"
   ]
  },
  {
   "cell_type": "code",
   "execution_count": 45,
   "id": "76e2ecd5",
   "metadata": {},
   "outputs": [
    {
     "name": "stdout",
     "output_type": "stream",
     "text": [
      " W3C Mission\n",
      "  Principles\n"
     ]
    }
   ],
   "source": [
    "from html.parser import HTMLParser \n",
    "\n",
    "class HeadingParser(HTMLParser):#We create a subclass of HTMLParser\n",
    "    indent = 0\n",
    "    headerFlag = False\n",
    "    \n",
    "    \n",
    "    def handle_starttag(self, tag, attrs): \n",
    "        \n",
    "            #Each heading should be indented as follows:\n",
    "            #an h1 heading should have ndentation 0, \n",
    "            #and h2 heading should have indentation 1, etc.\n",
    "            #Test your implementation using w3c.html.\n",
    "        if tag == \"h1\":\n",
    "            self.headerFlag = True\n",
    "            self.indent= 0\n",
    "        elif tag == \"h2\":\n",
    "            self.headerFlag = True\n",
    "            self.indent= 1\n",
    "        elif tag == \"h3\":\n",
    "            self.headerFlag = True\n",
    "            self.indent= 2\n",
    "        elif tag == \"h4\":\n",
    "            self.headerFlag = True\n",
    "            self.indent= 3\n",
    "        elif tag == \"h5\":\n",
    "            self.headerFlag = True\n",
    "            self.indent= 4\n",
    "        elif tag == \"h6\":\n",
    "            self.headerFlag = True\n",
    "            self.indent= 5\n",
    "        else:\n",
    "            self.headerFlag = False\n",
    "            self.indent= 0\n",
    "    def handle_data(self, w3c_data):                \n",
    "        if self.headerFlag: \n",
    "            to_indent = \" \"*self.indent\n",
    "            print('{} {}'.format(to_indent,w3c_data))\n",
    "    def handle_endtag(self, tag):\n",
    "        if tag in [\"h1\",\"h2\",\"h3\",\"h4\",\"h5\",\"h6\"]:\n",
    "            self.headerFlag = False\n",
    "\n",
    "infile = open(\"w3c.txt\")\n",
    "content = infile.read()\n",
    "infile.close()  \n",
    "hp = HeadingParser()\n",
    "hp.feed(content)\n"
   ]
  },
  {
   "cell_type": "markdown",
   "id": "128866ef",
   "metadata": {},
   "source": [
    "<h5>QUESTION 7</h5>\n",
    "\n",
    "<p6> </p6>"
   ]
  },
  {
   "cell_type": "code",
   "execution_count": 46,
   "id": "f705e536",
   "metadata": {},
   "outputs": [
    {
     "name": "stdout",
     "output_type": "stream",
     "text": [
      " http://reed.cs.depaul.edu/lperkovic/test1.html\n",
      "         http://reed.cs.depaul.edu/lperkovic/test2.html\n",
      "                 http://reed.cs.depaul.edu/lperkovic/test4.html\n",
      "         http://reed.cs.depaul.edu/lperkovic/test3.html\n",
      "                 http://reed.cs.depaul.edu/lperkovic/test4.html\n"
     ]
    }
   ],
   "source": [
    "#import HTMLParser, urlopen, urljoin\n",
    "#coding idea from stackoverflow \n",
    "\n",
    "from html.parser import HTMLParser    \n",
    "from urllib.request import urlopen\n",
    "from urllib.parse import urljoin\n",
    "\n",
    "class Parser(HTMLParser):\n",
    "\n",
    "    def __init__(self, url):\n",
    "        HTMLParser.__init__(self)\n",
    "        self.url = url\n",
    "        self.url_list = []\n",
    "\n",
    "    def append_list(self):\n",
    "        return self.url_list\n",
    "\n",
    "    def handle_starttag(self, tags, attri):\n",
    "        for head in attri:\n",
    "            contents = urljoin(self.url, head[1])\n",
    "            if contents[:4] == 'http': \n",
    "                self.url_list.append(contents)\n",
    "indentation = 0\n",
    "def webdir(url, distance, indentation):\n",
    "   \n",
    "\n",
    "    distance -= 1    \n",
    "    print(indentation*'  ', url)         \n",
    "\n",
    "    object = urlopen(url).read().decode()\n",
    "    column = Parser(url)\n",
    "    column.feed(object)\n",
    "    url_link = column.append_list() \n",
    " \n",
    "    url_list = url_link\n",
    "    indentation += 4\n",
    "\n",
    "    for links in url_list:\n",
    "        if distance < 0 or indentation < 0:\n",
    "            return 1\n",
    "        else:\n",
    "            webdir(links, distance, indentation)\n",
    "            \n",
    "webdir('http://reed.cs.depaul.edu/lperkovic/test1.html', 2, 0) #recursive function\n"
   ]
  },
  {
   "cell_type": "markdown",
   "id": "2675a672",
   "metadata": {},
   "source": [
    "<h5>QUESTION 8</h5>\n",
    "\n",
    "<p6> </p6>"
   ]
  },
  {
   "cell_type": "code",
   "execution_count": 2,
   "id": "e3625ca6",
   "metadata": {},
   "outputs": [
    {
     "name": "stdout",
     "output_type": "stream",
     "text": [
      "Requirement already satisfied: ipython-sql in /opt/anaconda3/lib/python3.9/site-packages (0.4.1)\n",
      "Requirement already satisfied: ipython>=1.0 in /opt/anaconda3/lib/python3.9/site-packages (from ipython-sql) (7.29.0)\n",
      "Requirement already satisfied: prettytable<1 in /opt/anaconda3/lib/python3.9/site-packages (from ipython-sql) (0.7.2)\n",
      "Requirement already satisfied: sqlparse in /opt/anaconda3/lib/python3.9/site-packages (from ipython-sql) (0.4.3)\n",
      "Requirement already satisfied: sqlalchemy>=0.6.7 in /opt/anaconda3/lib/python3.9/site-packages (from ipython-sql) (1.4.36)\n",
      "Requirement already satisfied: six in /opt/anaconda3/lib/python3.9/site-packages (from ipython-sql) (1.16.0)\n",
      "Requirement already satisfied: ipython-genutils>=0.1.0 in /opt/anaconda3/lib/python3.9/site-packages (from ipython-sql) (0.2.0)\n",
      "Requirement already satisfied: jedi>=0.16 in /opt/anaconda3/lib/python3.9/site-packages (from ipython>=1.0->ipython-sql) (0.18.0)\n",
      "Requirement already satisfied: prompt-toolkit!=3.0.0,!=3.0.1,<3.1.0,>=2.0.0 in /opt/anaconda3/lib/python3.9/site-packages (from ipython>=1.0->ipython-sql) (3.0.20)\n",
      "Requirement already satisfied: pexpect>4.3 in /opt/anaconda3/lib/python3.9/site-packages (from ipython>=1.0->ipython-sql) (4.8.0)\n",
      "Requirement already satisfied: backcall in /opt/anaconda3/lib/python3.9/site-packages (from ipython>=1.0->ipython-sql) (0.2.0)\n",
      "Requirement already satisfied: setuptools>=18.5 in /opt/anaconda3/lib/python3.9/site-packages (from ipython>=1.0->ipython-sql) (58.0.4)\n",
      "Requirement already satisfied: appnope in /opt/anaconda3/lib/python3.9/site-packages (from ipython>=1.0->ipython-sql) (0.1.2)\n",
      "Requirement already satisfied: decorator in /opt/anaconda3/lib/python3.9/site-packages (from ipython>=1.0->ipython-sql) (5.1.0)\n",
      "Requirement already satisfied: traitlets>=4.2 in /opt/anaconda3/lib/python3.9/site-packages (from ipython>=1.0->ipython-sql) (5.1.0)\n",
      "Requirement already satisfied: pickleshare in /opt/anaconda3/lib/python3.9/site-packages (from ipython>=1.0->ipython-sql) (0.7.5)\n",
      "Requirement already satisfied: pygments in /opt/anaconda3/lib/python3.9/site-packages (from ipython>=1.0->ipython-sql) (2.10.0)\n",
      "Requirement already satisfied: matplotlib-inline in /opt/anaconda3/lib/python3.9/site-packages (from ipython>=1.0->ipython-sql) (0.1.2)\n",
      "Requirement already satisfied: greenlet!=0.4.17 in /opt/anaconda3/lib/python3.9/site-packages (from sqlalchemy>=0.6.7->ipython-sql) (1.1.2)\n",
      "Requirement already satisfied: parso<0.9.0,>=0.8.0 in /opt/anaconda3/lib/python3.9/site-packages (from jedi>=0.16->ipython>=1.0->ipython-sql) (0.8.2)\n",
      "Requirement already satisfied: ptyprocess>=0.5 in /opt/anaconda3/lib/python3.9/site-packages (from pexpect>4.3->ipython>=1.0->ipython-sql) (0.7.0)\n",
      "Requirement already satisfied: wcwidth in /opt/anaconda3/lib/python3.9/site-packages (from prompt-toolkit!=3.0.0,!=3.0.1,<3.1.0,>=2.0.0->ipython>=1.0->ipython-sql) (0.2.5)\n",
      "\u001b[33mWARNING: You are using pip version 22.0.4; however, version 22.3 is available.\n",
      "You should consider upgrading via the '/opt/anaconda3/bin/python -m pip install --upgrade pip' command.\u001b[0m\u001b[33m\n",
      "\u001b[0m"
     ]
    }
   ],
   "source": [
    "!pip install ipython-sql\n",
    "import sqlite3\n",
    "con = sqlite3.connect('goodnewsdatabase.db')\n",
    "cur = con.cursor()"
   ]
  },
  {
   "cell_type": "code",
   "execution_count": null,
   "id": "2427f32d",
   "metadata": {
    "scrolled": true
   },
   "outputs": [],
   "source": [
    "cur.execute(\"CREATE TABLE CITY_DATA (City text, Country text, Season text, Temperature float, Rainfall float)\")\n",
    "data=[('Mumbai', 'India','Winter',24.8, 5.9),('Mumbai','India','Spring',28.4,16.2),('Mumbai','India','Summer',27.9,1549.4),\n",
    "     ('Mumbai','India','Fall',27.6,346.0),('London','United Kingdom','Winter',4.2,207.7),\n",
    "     ('London','United Kingdom','Spring',8.3,169.6),('London','United Kingdom','Summer',15.7,157.0),\n",
    "     ('London','United Kingdom','Fall',10.4,218.5),('Cairo','Egypt','Winter',13.6,16.5),('Cairo','Egypt','Spring',20.7,6.5),\n",
    "     ('Cairo','Egypt','Summer',27.7,0.1),('Cairo','Egypt','Fall',22.2,4.5)]\n",
    "for cities in data:\n",
    "    cur.execute(\"INSERT INTO CITY_DATA VALUES (?,?,?,?,?)\",cities)\n",
    "    con.commit()"
   ]
  },
  {
   "cell_type": "code",
   "execution_count": 47,
   "id": "cc576dcb",
   "metadata": {},
   "outputs": [
    {
     "data": {
      "text/plain": [
       "[(24.8,),\n",
       " (28.4,),\n",
       " (27.9,),\n",
       " (27.6,),\n",
       " (4.2,),\n",
       " (8.3,),\n",
       " (15.7,),\n",
       " (10.4,),\n",
       " (13.6,),\n",
       " (20.7,),\n",
       " (27.7,),\n",
       " (22.2,)]"
      ]
     },
     "execution_count": 47,
     "metadata": {},
     "output_type": "execute_result"
    }
   ],
   "source": [
    "#a) All the temperature data.\n",
    "cur.execute('SELECT Temperature FROM CITY_DATA')\n",
    "cur.fetchall()"
   ]
  },
  {
   "cell_type": "code",
   "execution_count": 48,
   "id": "66a8b648",
   "metadata": {},
   "outputs": [
    {
     "data": {
      "text/plain": [
       "[('Mumbai',), ('London',), ('Cairo',)]"
      ]
     },
     "execution_count": 48,
     "metadata": {},
     "output_type": "execute_result"
    }
   ],
   "source": [
    "#b) All the cities, but without repetition.\n",
    "cur.execute('SELECT DISTINCT City FROM CITY_DATA')\n",
    "cur.fetchall()"
   ]
  },
  {
   "cell_type": "code",
   "execution_count": 49,
   "id": "4f539922",
   "metadata": {},
   "outputs": [
    {
     "data": {
      "text/plain": [
       "[('Mumbai', 'India', 'Winter', 24.8, 5.9),\n",
       " ('Mumbai', 'India', 'Spring', 28.4, 16.2),\n",
       " ('Mumbai', 'India', 'Summer', 27.9, 1549.4),\n",
       " ('Mumbai', 'India', 'Fall', 27.6, 346.0)]"
      ]
     },
     "execution_count": 49,
     "metadata": {},
     "output_type": "execute_result"
    }
   ],
   "source": [
    "#c) All the records for India.\n",
    "cur.execute('SELECT * FROM CITY_DATA WHERE Country LIKE \"India%\"')\n",
    "cur.fetchall()"
   ]
  },
  {
   "cell_type": "code",
   "execution_count": 50,
   "id": "df2419cd",
   "metadata": {},
   "outputs": [
    {
     "data": {
      "text/plain": [
       "[('Mumbai', 'India', 'Fall', 27.6, 346.0),\n",
       " ('London', 'United Kingdom', 'Fall', 10.4, 218.5),\n",
       " ('Cairo', 'Egypt', 'Fall', 22.2, 4.5)]"
      ]
     },
     "execution_count": 50,
     "metadata": {},
     "output_type": "execute_result"
    }
   ],
   "source": [
    "#d) All the Fall records.\n",
    "cur.execute('SELECT * FROM CITY_DATA WHERE Season LIKE \"Fall%\"')\n",
    "cur.fetchall()"
   ]
  },
  {
   "cell_type": "code",
   "execution_count": 51,
   "id": "4549302f",
   "metadata": {},
   "outputs": [
    {
     "data": {
      "text/plain": [
       "[('Mumbai', 'India', 'Fall'),\n",
       " ('London', 'United Kingdom', 'Winter'),\n",
       " ('London', 'United Kingdom', 'Fall')]"
      ]
     },
     "execution_count": 51,
     "metadata": {},
     "output_type": "execute_result"
    }
   ],
   "source": [
    " #e) The city, country, and season for which the average rainfall \n",
    "#is between 200 and 400 millimeters.\n",
    "\n",
    "cur.execute('SELECT City, Country, Season FROM CITY_DATA WHERE Rainfall BETWEEN 200 AND 400')\n",
    "cur.fetchall()"
   ]
  },
  {
   "cell_type": "code",
   "execution_count": 52,
   "id": "b94006f9",
   "metadata": {},
   "outputs": [
    {
     "data": {
      "text/plain": [
       "[('Mumbai', 'India', 28.4),\n",
       " ('Mumbai', 'India', 27.9),\n",
       " ('Cairo', 'Egypt', 27.7),\n",
       " ('Mumbai', 'India', 27.6),\n",
       " ('Mumbai', 'India', 24.8),\n",
       " ('Cairo', 'Egypt', 22.2),\n",
       " ('Cairo', 'Egypt', 20.7)]"
      ]
     },
     "execution_count": 52,
     "metadata": {},
     "output_type": "execute_result"
    }
   ],
   "source": [
    " #f) The city and country for which the average Fall temperature is above 20 degrees, \n",
    "#in increasing temperature order.\n",
    "\n",
    "cur.execute('SELECT City, Country,Temperature FROM CITY_DATA WHERE Temperature > 20 ORDER BY Temperature DESC')\n",
    "cur.fetchall()"
   ]
  },
  {
   "cell_type": "code",
   "execution_count": 53,
   "id": "6f9ba947",
   "metadata": {},
   "outputs": [
    {
     "data": {
      "text/plain": [
       "[(27.6, 'Cairo')]"
      ]
     },
     "execution_count": 53,
     "metadata": {},
     "output_type": "execute_result"
    }
   ],
   "source": [
    "#g) The total annual rainfall for Cairo.\n",
    "cur.execute('SELECT SUM(Rainfall) AS RF, City FROM CITY_DATA WHERE City LIKE \"Cairo\" GROUP BY City')\n",
    "cur.fetchall()"
   ]
  },
  {
   "cell_type": "code",
   "execution_count": 54,
   "id": "b7a668b2",
   "metadata": {},
   "outputs": [
    {
     "data": {
      "text/plain": [
       "[(569.0, 'Fall'),\n",
       " (192.29999999999998, 'Spring'),\n",
       " (1706.5, 'Summer'),\n",
       " (230.1, 'Winter')]"
      ]
     },
     "execution_count": 54,
     "metadata": {},
     "output_type": "execute_result"
    }
   ],
   "source": [
    "#h) The total rainfall for each season.\n",
    "\n",
    "cur.execute('SELECT SUM(Rainfall),Season FROM CITY_DATA GROUP BY Season')\n",
    "cur.fetchall()"
   ]
  },
  {
   "cell_type": "markdown",
   "id": "5de32268",
   "metadata": {},
   "source": [
    "<h5>QUESTION 9</h5>\n",
    "\n",
    "<p6> </p6>"
   ]
  },
  {
   "cell_type": "code",
   "execution_count": 26,
   "id": "853309cf",
   "metadata": {},
   "outputs": [],
   "source": [
    "words = ['The', 'quick', 'brown', 'fox', 'jumps', 'over', 'the', 'lazy', 'dog']"
   ]
  },
  {
   "cell_type": "code",
   "execution_count": 55,
   "id": "80742805",
   "metadata": {},
   "outputs": [
    {
     "data": {
      "text/plain": [
       "['THE', 'QUICK', 'BROWN', 'FOX', 'JUMPS', 'OVER', 'THE', 'LAZY', 'DOG']"
      ]
     },
     "execution_count": 55,
     "metadata": {},
     "output_type": "execute_result"
    }
   ],
   "source": [
    "lista = [a.upper() for a in words]\n",
    "lista"
   ]
  },
  {
   "cell_type": "code",
   "execution_count": 56,
   "id": "18486063",
   "metadata": {},
   "outputs": [
    {
     "data": {
      "text/plain": [
       "['the', 'quick', 'brown', 'fox', 'jumps', 'over', 'the', 'lazy', 'dog']"
      ]
     },
     "execution_count": 56,
     "metadata": {},
     "output_type": "execute_result"
    }
   ],
   "source": [
    "listb = [b.lower() for b in words]\n",
    "listb"
   ]
  },
  {
   "cell_type": "code",
   "execution_count": 57,
   "id": "e88dde73",
   "metadata": {},
   "outputs": [
    {
     "data": {
      "text/plain": [
       "[3, 5, 5, 3, 5, 4, 3, 4, 3]"
      ]
     },
     "execution_count": 57,
     "metadata": {},
     "output_type": "execute_result"
    }
   ],
   "source": [
    "listc = [len(c) for c in words] #the list of lengths of words in list words).\n",
    "listc"
   ]
  },
  {
   "cell_type": "code",
   "execution_count": 58,
   "id": "77c541fd",
   "metadata": {},
   "outputs": [
    {
     "data": {
      "text/plain": [
       "[('THE', 'the', 3),\n",
       " ('QUICK', 'quick', 5),\n",
       " ('BROWN', 'brown', 5),\n",
       " ('FOX', 'fox', 3),\n",
       " ('JUMPS', 'jumps', 5),\n",
       " ('OVER', 'over', 4),\n",
       " ('THE', 'the', 3),\n",
       " ('LAZY', 'lazy', 4),\n",
       " ('DOG', 'dog', 3)]"
      ]
     },
     "execution_count": 58,
     "metadata": {},
     "output_type": "execute_result"
    }
   ],
   "source": [
    "#he list containing a list for every word of list words,\n",
    "#where each list contains the word in uppercase and lowercase and the length of the word.\n",
    "listd = [(d.upper(),d.lower(),len(d)) for d in words]\n",
    "listd"
   ]
  },
  {
   "cell_type": "code",
   "execution_count": 59,
   "id": "56b0e0c5",
   "metadata": {},
   "outputs": [
    {
     "data": {
      "text/plain": [
       "['quick', 'brown', 'jumps', 'over', 'lazy']"
      ]
     },
     "execution_count": 59,
     "metadata": {},
     "output_type": "execute_result"
    }
   ],
   "source": [
    "#the list of words in list words containing 4 or more characters.\n",
    "\n",
    "liste = [e for e in words if len(e)>=4]\n",
    "liste"
   ]
  }
 ],
 "metadata": {
  "kernelspec": {
   "display_name": "Python 3 (ipykernel)",
   "language": "python",
   "name": "python3"
  },
  "language_info": {
   "codemirror_mode": {
    "name": "ipython",
    "version": 3
   },
   "file_extension": ".py",
   "mimetype": "text/x-python",
   "name": "python",
   "nbconvert_exporter": "python",
   "pygments_lexer": "ipython3",
   "version": "3.9.12"
  }
 },
 "nbformat": 4,
 "nbformat_minor": 5
}
